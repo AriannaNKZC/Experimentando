{
  "cells": [
    {
      "cell_type": "markdown",
      "metadata": {
        "id": "view-in-github",
        "colab_type": "text"
      },
      "source": [
        "<a href=\"https://colab.research.google.com/github/AriannaNKZC/Experimentando/blob/main/T4_2024_1.ipynb\" target=\"_parent\"><img src=\"https://colab.research.google.com/assets/colab-badge.svg\" alt=\"Open In Colab\"/></a>"
      ]
    },
    {
      "cell_type": "markdown",
      "metadata": {
        "id": "oifLIy0lGFIy"
      },
      "source": [
        "# Tarea 4 (Pandas)\n",
        "\n",
        "Hora de entrega: Viernes 12 de enero, 23:59\n",
        "\n",
        "\n",
        "Entregar la tarea en este notebook, no usar una adicional a esta.\n",
        "\n",
        "\n"
      ]
    },
    {
      "cell_type": "markdown",
      "metadata": {
        "id": "yjEzI3TpGFI2"
      },
      "source": [
        "- Antes que nada, ¡necesitamos nuestros datos!\n",
        "1. Ve a la página de microdatos del [INEI](http://iinei.inei.gob.pe/microdatos/).\n",
        "2. Ve a \"Consulta por encuestas\" y ve a ENAHO metodología ACTUALIZADA.\n",
        "3. Elige aquella que dice \"Condiciones de Vida y Pobreza - ENAHO\" (la que no es panel).\n",
        "4. Elige el año 2022, y en período, elige la anual.   \n",
        "5. Descarga los **archivos CSV** del Código módulo 1 (Características de la vivienda y el hogar) y el módulo 34 (Sumarias - Variables Calculadas).\n",
        "\n",
        "(El nombre del archivo de sumaria es Sumaria-2022).\n",
        "\n",
        "Esta tarea está pensada en ser desarrollada con los CSV (no los .dta o .sav, que son los archivos de stata ó spss respectivamente).\n",
        "\n",
        "\n",
        "La ENAHO es una encuesta muy amplia que está distribuida en varios módulos. En esta tarea veremos cómo podemos utilizar información de varios de estos módulos para sacar datos interesantes."
      ]
    },
    {
      "cell_type": "code",
      "source": [
        "import pandas as pd\n"
      ],
      "metadata": {
        "id": "xepYQ69dfMIU"
      },
      "execution_count": 2,
      "outputs": []
    },
    {
      "cell_type": "markdown",
      "metadata": {
        "id": "ENzVKXEGGFI3"
      },
      "source": [
        "1. Lee ambos archivos csv con pandas y asígnales un nombre para que puedas trabajar con ambos como base de datos. (Si es que sale un error, es debido a que nuestras encuestas están en español y tienen caracteres como ˜ de la ñ o el acento. Por ello, a las opciones de lectura del csv, agrega la siguiente opción ``` encoding = \"latin-1\" ```.\n",
        "\n",
        "(No olvides importar pandas 🐼)\n",
        "\n",
        "\n",
        "En caso tus columnas salgan con el nombre en mayúscula, puedes correr el siguiente comando para cambiarlas a minúsculas:\n",
        "\n",
        "``` python3\n",
        "df.columns= df.columns.str.lower()\n",
        "```\n",
        "Donde `df` es el nombre del dataframe.   \n",
        "(En esta clase no ahondamos en el manejo de strings, pero `lower()` es un método de este tipo de variables para convertir el string a minúscula.)"
      ]
    },
    {
      "cell_type": "code",
      "source": [],
      "metadata": {
        "id": "eIP46X0qfMvC"
      },
      "execution_count": null,
      "outputs": []
    },
    {
      "cell_type": "code",
      "source": [],
      "metadata": {
        "id": "rU6UVl6zfNpB"
      },
      "execution_count": null,
      "outputs": []
    },
    {
      "cell_type": "code",
      "execution_count": null,
      "metadata": {
        "id": "NRCgHgylGFI4"
      },
      "outputs": [],
      "source": []
    },
    {
      "cell_type": "code",
      "execution_count": null,
      "metadata": {
        "id": "D3nH98YkN20p"
      },
      "outputs": [],
      "source": []
    },
    {
      "cell_type": "markdown",
      "metadata": {
        "id": "imIgmrpZGFI4"
      },
      "source": [
        "2. - ¿Cuáles son las dimensiones de la sumaria? (o el número de filas y columnas).\n",
        "   - ¿Cuáles son las dimensiones del módulo de vivienda? (o el número de filas y columnas)."
      ]
    },
    {
      "cell_type": "code",
      "execution_count": null,
      "metadata": {
        "id": "9lsnOaPLGFI5"
      },
      "outputs": [],
      "source": []
    },
    {
      "cell_type": "code",
      "execution_count": null,
      "metadata": {
        "id": "2jYjHCcrUQQg"
      },
      "outputs": [],
      "source": []
    },
    {
      "cell_type": "markdown",
      "metadata": {
        "id": "ahCSvQG2GFI5"
      },
      "source": [
        "3. En esta oportunidad no necesitaremos todas las variables de la ENAHO para hacer esta tarea.\n",
        "- Quedémonos con las variables ``` CONGLOME VIVIENDA HOGAR MIEPERHO PERCEPHO POBREZA GASHOG2D INGHOG2D UBIGEO``` de la sumaria.\n",
        "- Quedémonos con las variables ``` CONGLOME VIVIENDA HOGAR RESULT NBI1 NBI2 NBI3 NBI4 NBI5 ``` del módulo de vivienda.\n",
        "\n",
        "\n",
        " Nota: cada una de las variables es:\n",
        "- MIEPERHO: número de miembros del hogar.\n",
        "- PERCEPHO: número de perceptores del hogar (que reciben un ingreso).\n",
        "- POBREZA: Pobreza monetaria según la línea de pobreza.\n",
        "- GASHOG2D: Gasto bruto anual del hogar.\n",
        "- INGHOG2D: Ingreso anual neto total del hogar.\n",
        "- UBIGEO: Código de 6 dígitos que indica el distrito de pertenencia de la persona.\n",
        "\n",
        "Necesidades básicas:\n",
        "- NBI1: vivienda inadecuada.\n",
        "- NBI2: hacinamiento\n",
        "- NBI3: vivienda sin servicios higiénicos\n",
        "- NBI4: hogares con  niños que no asisten a la escuela.\n",
        "- NBI5: hogares con alta dependencia económica\n",
        "\n",
        "CONGLOME, VIVIENDA y HOGAR son los identificadores únicos a nivel de hogar (como un key id)."
      ]
    },
    {
      "cell_type": "code",
      "execution_count": null,
      "metadata": {
        "id": "D0vuGKPBGFI6"
      },
      "outputs": [],
      "source": []
    },
    {
      "cell_type": "markdown",
      "metadata": {
        "id": "vocY0qhOGFI7"
      },
      "source": [
        "4. El módulo vivienda incluye todos los hogares que entraron en el marco muestral, incluso aquellos que no participaron en la ENAHO por diversos motivos. Para eliminar estas viviendas, quedémonos con aquellas cuyo ``` RESULT``` sea igual a 1 ó 2. Almacena este resultado para después."
      ]
    },
    {
      "cell_type": "code",
      "execution_count": null,
      "metadata": {
        "id": "pJEF71fWVd2y"
      },
      "outputs": [],
      "source": []
    },
    {
      "cell_type": "code",
      "execution_count": null,
      "metadata": {
        "id": "rnjyKBpOzakf"
      },
      "outputs": [],
      "source": []
    },
    {
      "cell_type": "markdown",
      "metadata": {
        "id": "uM7RZvS-GFI7"
      },
      "source": []
    },
    {
      "cell_type": "markdown",
      "metadata": {
        "id": "aBSH3uJmGFI8"
      },
      "source": [
        "5. Queremos calcular una serie de variables (ó columnas nuevas):  \n",
        "En sumaria:\n",
        "- Queremos el número de miembros dependientes del hogar . Estos son el número de personas que no perciben un ingreso ó la diferencia entre el total de miembros y el total de perceptores.\n",
        "- Queremos el ingreso mensual promedio por perceptor del hogar.\n",
        "- Queremos la diferencia  entre ingreso y gasto del hogar"
      ]
    },
    {
      "cell_type": "code",
      "execution_count": null,
      "metadata": {
        "id": "i-3FJ80TGFI8"
      },
      "outputs": [],
      "source": [
        "# tu respuesta aquí\n",
        "# Pista: evaluar los tipos de las variables, y verificar que aquellas que sean numéricas, efectivamente lo sean."
      ]
    },
    {
      "cell_type": "code",
      "execution_count": null,
      "metadata": {
        "id": "meC7Yj3S1aS6"
      },
      "outputs": [],
      "source": [
        "# tu respuesta aquí"
      ]
    },
    {
      "cell_type": "code",
      "execution_count": null,
      "metadata": {
        "id": "Qwy-nwyL30tV"
      },
      "outputs": [],
      "source": [
        "# tu respuesta aquí.\n"
      ]
    },
    {
      "cell_type": "markdown",
      "metadata": {
        "id": "LvQwJHQrGFI8"
      },
      "source": [
        "6. La variable de `pobreza`, en la sumaria, está codificada como integers 1, 2 y 3. Esto corresponde a:  \n",
        "`1`: hogar pobre extremo  \n",
        "`2`: hogar pobre no extremo  \n",
        "`3`: hogar no  pobre  \n",
        "\n",
        "En base a esta variable, crea dos variables más:\n",
        "1. Una variable que tenga `'pobre extremo'`, `'pobre no extremo'` y `'no pobre'` en vez  de 1, 2, 3.\n",
        "2. Una variable que tenga `'pobre'` y `'no pobre'` (ó que englobe a los hogares pobres y pobres no extremos).\n",
        "\n"
      ]
    },
    {
      "cell_type": "code",
      "execution_count": null,
      "metadata": {
        "id": "GDv1wqGcGFI9"
      },
      "outputs": [],
      "source": [
        "# tu respuesta aquí"
      ]
    },
    {
      "cell_type": "code",
      "execution_count": null,
      "metadata": {
        "id": "fe0a2u_p61mo"
      },
      "outputs": [],
      "source": [
        "# tu respuesta aquí"
      ]
    },
    {
      "cell_type": "markdown",
      "metadata": {
        "id": "p3j4pRHnGFI-"
      },
      "source": [
        "7. Queremos saber el promedio de ingresos de los hogares (inghog2d) por nivel de pobreza. Haz un `groupby` para averiguar esto.\n",
        "\n",
        "\n",
        "(Por ejemplo, todos los hogares pobres extremos tendrán un único promedio, y así con las 2 categorías de pobreza adicionales)."
      ]
    },
    {
      "cell_type": "code",
      "execution_count": null,
      "metadata": {
        "colab": {
          "base_uri": "https://localhost:8080/",
          "height": 175
        },
        "id": "tzRRzKGaGFI-",
        "outputId": "80ac761f-b378-42fa-b97b-6fcf8296c33c"
      },
      "outputs": [
        {
          "data": {
            "text/html": [
              "\n",
              "  <div id=\"df-7a922372-ead7-4b44-ad16-8c7ac4f5b09b\">\n",
              "    <div class=\"colab-df-container\">\n",
              "      <div>\n",
              "<style scoped>\n",
              "    .dataframe tbody tr th:only-of-type {\n",
              "        vertical-align: middle;\n",
              "    }\n",
              "\n",
              "    .dataframe tbody tr th {\n",
              "        vertical-align: top;\n",
              "    }\n",
              "\n",
              "    .dataframe thead th {\n",
              "        text-align: right;\n",
              "    }\n",
              "</style>\n",
              "<table border=\"1\" class=\"dataframe\">\n",
              "  <thead>\n",
              "    <tr style=\"text-align: right;\">\n",
              "      <th></th>\n",
              "      <th>inghog2d</th>\n",
              "    </tr>\n",
              "    <tr>\n",
              "      <th>pobreza</th>\n",
              "      <th></th>\n",
              "    </tr>\n",
              "  </thead>\n",
              "  <tbody>\n",
              "    <tr>\n",
              "      <th>1</th>\n",
              "      <td>9980.110857</td>\n",
              "    </tr>\n",
              "    <tr>\n",
              "      <th>2</th>\n",
              "      <td>15565.160905</td>\n",
              "    </tr>\n",
              "    <tr>\n",
              "      <th>3</th>\n",
              "      <td>32014.094308</td>\n",
              "    </tr>\n",
              "  </tbody>\n",
              "</table>\n",
              "</div>\n",
              "      <button class=\"colab-df-convert\" onclick=\"convertToInteractive('df-7a922372-ead7-4b44-ad16-8c7ac4f5b09b')\"\n",
              "              title=\"Convert this dataframe to an interactive table.\"\n",
              "              style=\"display:none;\">\n",
              "        \n",
              "  <svg xmlns=\"http://www.w3.org/2000/svg\" height=\"24px\"viewBox=\"0 0 24 24\"\n",
              "       width=\"24px\">\n",
              "    <path d=\"M0 0h24v24H0V0z\" fill=\"none\"/>\n",
              "    <path d=\"M18.56 5.44l.94 2.06.94-2.06 2.06-.94-2.06-.94-.94-2.06-.94 2.06-2.06.94zm-11 1L8.5 8.5l.94-2.06 2.06-.94-2.06-.94L8.5 2.5l-.94 2.06-2.06.94zm10 10l.94 2.06.94-2.06 2.06-.94-2.06-.94-.94-2.06-.94 2.06-2.06.94z\"/><path d=\"M17.41 7.96l-1.37-1.37c-.4-.4-.92-.59-1.43-.59-.52 0-1.04.2-1.43.59L10.3 9.45l-7.72 7.72c-.78.78-.78 2.05 0 2.83L4 21.41c.39.39.9.59 1.41.59.51 0 1.02-.2 1.41-.59l7.78-7.78 2.81-2.81c.8-.78.8-2.07 0-2.86zM5.41 20L4 18.59l7.72-7.72 1.47 1.35L5.41 20z\"/>\n",
              "  </svg>\n",
              "      </button>\n",
              "      \n",
              "  <style>\n",
              "    .colab-df-container {\n",
              "      display:flex;\n",
              "      flex-wrap:wrap;\n",
              "      gap: 12px;\n",
              "    }\n",
              "\n",
              "    .colab-df-convert {\n",
              "      background-color: #E8F0FE;\n",
              "      border: none;\n",
              "      border-radius: 50%;\n",
              "      cursor: pointer;\n",
              "      display: none;\n",
              "      fill: #1967D2;\n",
              "      height: 32px;\n",
              "      padding: 0 0 0 0;\n",
              "      width: 32px;\n",
              "    }\n",
              "\n",
              "    .colab-df-convert:hover {\n",
              "      background-color: #E2EBFA;\n",
              "      box-shadow: 0px 1px 2px rgba(60, 64, 67, 0.3), 0px 1px 3px 1px rgba(60, 64, 67, 0.15);\n",
              "      fill: #174EA6;\n",
              "    }\n",
              "\n",
              "    [theme=dark] .colab-df-convert {\n",
              "      background-color: #3B4455;\n",
              "      fill: #D2E3FC;\n",
              "    }\n",
              "\n",
              "    [theme=dark] .colab-df-convert:hover {\n",
              "      background-color: #434B5C;\n",
              "      box-shadow: 0px 1px 3px 1px rgba(0, 0, 0, 0.15);\n",
              "      filter: drop-shadow(0px 1px 2px rgba(0, 0, 0, 0.3));\n",
              "      fill: #FFFFFF;\n",
              "    }\n",
              "  </style>\n",
              "\n",
              "      <script>\n",
              "        const buttonEl =\n",
              "          document.querySelector('#df-7a922372-ead7-4b44-ad16-8c7ac4f5b09b button.colab-df-convert');\n",
              "        buttonEl.style.display =\n",
              "          google.colab.kernel.accessAllowed ? 'block' : 'none';\n",
              "\n",
              "        async function convertToInteractive(key) {\n",
              "          const element = document.querySelector('#df-7a922372-ead7-4b44-ad16-8c7ac4f5b09b');\n",
              "          const dataTable =\n",
              "            await google.colab.kernel.invokeFunction('convertToInteractive',\n",
              "                                                     [key], {});\n",
              "          if (!dataTable) return;\n",
              "\n",
              "          const docLinkHtml = 'Like what you see? Visit the ' +\n",
              "            '<a target=\"_blank\" href=https://colab.research.google.com/notebooks/data_table.ipynb>data table notebook</a>'\n",
              "            + ' to learn more about interactive tables.';\n",
              "          element.innerHTML = '';\n",
              "          dataTable['output_type'] = 'display_data';\n",
              "          await google.colab.output.renderOutput(dataTable, element);\n",
              "          const docLink = document.createElement('div');\n",
              "          docLink.innerHTML = docLinkHtml;\n",
              "          element.appendChild(docLink);\n",
              "        }\n",
              "      </script>\n",
              "    </div>\n",
              "  </div>\n",
              "  "
            ],
            "text/plain": [
              "             inghog2d\n",
              "pobreza              \n",
              "1         9980.110857\n",
              "2        15565.160905\n",
              "3        32014.094308"
            ]
          },
          "execution_count": 246,
          "metadata": {},
          "output_type": "execute_result"
        }
      ],
      "source": [
        "sumaria_small[['inghog2d', 'pobreza']].groupby('pobreza').mean()"
      ]
    },
    {
      "cell_type": "markdown",
      "metadata": {
        "id": "HPdGVw2WGFI-"
      },
      "source": [
        "8. ¡Ahora uniremos los datos!  \n",
        "Pero antes un check de sanidad: Verifica que el número  de filas de ambas bases de datos son las mismas (acuérdate que filtramos las observaciones por `result`).  La ENAHO recolecta información de estos 34,490 hogares a través de todos sus módulos. Para utilizar estos módulos a la vez, realizaremos una \"unión\" (merge).   \n",
        "\n",
        "Une ambas bases con un _inner merge_. Recuerda que el id que identifica a cada hogar se compone de ` conglome vivienda hogar`.  "
      ]
    },
    {
      "cell_type": "code",
      "execution_count": null,
      "metadata": {
        "id": "TqxWCbBr89p1"
      },
      "outputs": [],
      "source": [
        "# tu respuesta aquí"
      ]
    },
    {
      "cell_type": "code",
      "execution_count": null,
      "metadata": {
        "id": "Iylba8_o9KhK"
      },
      "outputs": [],
      "source": [
        "# tu respuesta aquí"
      ]
    },
    {
      "cell_type": "code",
      "execution_count": null,
      "metadata": {
        "id": "cbYXIqnx9RDz"
      },
      "outputs": [],
      "source": [
        "# tu respuesta aquí"
      ]
    },
    {
      "cell_type": "markdown",
      "metadata": {
        "id": "U7wgw3R_GFI_"
      },
      "source": [
        "9. Haz un ```groupby``` que agrupe (`agg`) los datos por nivel de pobreza  y la nbi1. Queremos hallar el promedio y la mediana de los ingresos (inghog2d) y los gastos (gashog2d) por el producto cartesiano de las categorías de estas 2 variables - pobreza y nbi 1 -.\n",
        "\n",
        "El producto cartesiano es tan sólo todas las posibles combinaciones entre categorías.\n",
        "En este caso, tendremos:\n",
        "- pobre extremo con nbi1\n",
        "- pobre extremo sin nbi1\n",
        "- pobre no extremo con nbi1\n",
        "- pobre no extremo sin nbi1\n",
        "- no pobre con nbi1\n",
        "- no pobre sin nbi1\n",
        "\n",
        "(Este es un  ejemplo de cómo, al cruzar un indicador de pobreza monetaria -pobreza- y pobreza multidimensional-nbis-, podemos seguir observando brechas)."
      ]
    },
    {
      "cell_type": "code",
      "execution_count": null,
      "metadata": {
        "id": "OeyLC00EDrZT"
      },
      "outputs": [],
      "source": [
        "# tu respuesta aquí"
      ]
    },
    {
      "cell_type": "markdown",
      "metadata": {
        "id": "ngipWVz3GFI_"
      },
      "source": [
        "10. Crea una variable que nos informe sobre los hogares que tienen al menos dos nbis. Esta tomará el valor de 1 si tiene dos nbis (cualquiera sean estas), 0 en caso contrario (menos de 2).\n",
        "\n",
        "Calcula el promedio de miembros dependientes por cada categoría de esta nueva variable."
      ]
    },
    {
      "cell_type": "code",
      "execution_count": null,
      "metadata": {
        "id": "8EWBYZFOGFJA"
      },
      "outputs": [],
      "source": [
        "# tu respuesta aquí"
      ]
    },
    {
      "cell_type": "markdown",
      "metadata": {
        "id": "FWyfNv0nGFJA"
      },
      "source": [
        "Crédito extra:\n",
        "\n",
        "11. Guarda el dataframe del resultado del ejercicio 9 como un csv. (No es necesario adjuntar este csv, con  que el bloque haya corrido está bien)."
      ]
    },
    {
      "cell_type": "code",
      "execution_count": null,
      "metadata": {
        "id": "0qmac8KrGFJA"
      },
      "outputs": [],
      "source": [
        "# tu respuesta aquí."
      ]
    },
    {
      "cell_type": "markdown",
      "metadata": {
        "id": "0GToqotdGFJA"
      },
      "source": [
        "12. Haz una tabulación cruzada en donde cuentes el número de personas, por nivel de pobreza, que hay en cada departamento. Este nuevo dataframe tendrá como filas a los departamentos y las nuevas columnas, los 3 niveles de pobreza (pobre extremo, pobre y no pobre). Usa `pivot_table`.\n",
        "\n",
        "*Nota: Los departamentos no necesitan tener nombre, con que estén enumerados del 1 al 25, está bien.\n",
        "Pista: Puedes utilizar una función que guarde el primer dígito de ubigeo cuando el valor es menor a x, y guardar 2 dígitos cuando el valor es mayor.   \n",
        "El método de creación de la variable departamento es libre.\n"
      ]
    },
    {
      "cell_type": "code",
      "execution_count": null,
      "metadata": {
        "id": "AWGNAyjuGFJA"
      },
      "outputs": [],
      "source": [
        "# tu respuesta aquí."
      ]
    },
    {
      "cell_type": "markdown",
      "metadata": {
        "id": "2gdRa7LcGFJA"
      },
      "source": [
        "**Tarea terminada**    ┗┃・ ■ ・┃┛"
      ]
    }
  ],
  "metadata": {
    "colab": {
      "provenance": [],
      "include_colab_link": true
    },
    "kernelspec": {
      "display_name": "Python 3",
      "language": "python",
      "name": "python3"
    },
    "language_info": {
      "codemirror_mode": {
        "name": "ipython",
        "version": 3
      },
      "file_extension": ".py",
      "mimetype": "text/x-python",
      "name": "python",
      "nbconvert_exporter": "python",
      "pygments_lexer": "ipython3",
      "version": "3.11.7"
    }
  },
  "nbformat": 4,
  "nbformat_minor": 0
}